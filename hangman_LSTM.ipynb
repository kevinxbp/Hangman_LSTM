{
 "cells": [
  {
   "cell_type": "markdown",
   "metadata": {
    "colab_type": "text",
    "id": "EJgfagqCTjZw"
   },
   "source": [
    "# The Hangman Game"
   ]
  },
  {
   "cell_type": "markdown",
   "metadata": {
    "colab_type": "text",
    "id": "eGbizstGTjZy"
   },
   "source": [
    "## Instruction:\n",
    "For this project, your mission is to write an algorithm that plays the game of Hangman through our API server. \n",
    "\n",
    "When a user plays Hangman, the server first selects a secret word at random from a list. The server then returns a row of underscores (space separated)—one for each letter in the secret word—and asks the user to guess a letter. If the user guesses a letter that is in the word, the word is redisplayed with all instances of that letter shown in the correct positions, along with any letters correctly guessed on previous turns. If the letter does not appear in the word, the user is charged with an incorrect guess. The user keeps guessing letters until either (1) the user has correctly guessed all the letters in the word\n",
    "or (2) the user has made six incorrect guesses.\n",
    "\n",
    "You are required to write a \"guess\" function that takes current word (with underscores) as input and returns a guess letter. You will use the API codes below to play 1,000 Hangman games. You have the opportunity to practice before you want to start recording your game results.\n",
    "\n",
    "Your algorithm is permitted to use a training set of approximately 250,000 dictionary words. Your algorithm will be tested on an entirely disjoint set of 250,000 dictionary words. Please note that this means the words that you will ultimately be tested on do NOT appear in the dictionary that you are given. You are not permitted to use any dictionary other than the training dictionary we provided. This requirement will be strictly enforced by code review.\n",
    "\n",
    "You are provided with a basic, working algorithm. This algorithm will match the provided masked string (e.g. a _ _ l e) to all possible words in the dictionary, tabulate the frequency of letters appearing in these possible words, and then guess the letter with the highest frequency of appearence that has not already been guessed. If there are no remaining words that match then it will default back to the character frequency distribution of the entire dictionary.\n",
    "\n",
    "This benchmark strategy is successful approximately 18% of the time. Your task is to design an algorithm that significantly outperforms this benchmark."
   ]
  },
  {
   "cell_type": "code",
   "execution_count": 3,
   "metadata": {
    "colab": {
     "base_uri": "https://localhost:8080/",
     "height": 34
    },
    "colab_type": "code",
    "id": "1Ohj1A9PTjZz",
    "outputId": "47379cb6-9fbe-4039-e501-6b7bac5c14f1"
   },
   "outputs": [
    {
     "name": "stderr",
     "output_type": "stream",
     "text": [
      "Using TensorFlow backend.\n"
     ]
    }
   ],
   "source": [
    "import json\n",
    "import requests\n",
    "import random\n",
    "import string\n",
    "import secrets\n",
    "import time\n",
    "import re\n",
    "import collections\n",
    "from keras.preprocessing.sequence import pad_sequences\n",
    "from keras.models import Sequential\n",
    "from keras.layers import Dense, Dropout, LSTM, Bidirectional\n",
    "from keras.layers.embeddings import Embedding\n",
    "from keras.utils.np_utils import to_categorical\n",
    "from sklearn.model_selection import train_test_split\n",
    "import numpy as np\n",
    "np.set_printoptions(threshold=np.inf)\n",
    "from copy import deepcopy\n",
    "import random\n",
    "try:\n",
    "    from urllib.parse import parse_qs, urlencode, urlparse\n",
    "except ImportError:\n",
    "    from urlparse import parse_qs, urlparse\n",
    "    from urllib import urlencode"
   ]
  },
  {
   "cell_type": "code",
   "execution_count": 4,
   "metadata": {
    "colab": {},
    "colab_type": "code",
    "id": "rj9RdA1pTjZ-"
   },
   "outputs": [],
   "source": [
    "HANGMAN_URL = \"\"\n",
    "thre = 0.8\n",
    "class HangmanAPI(object):\n",
    "    def __init__(self, access_token=None, session=None, timeout=None,batch_size=1000,epochs=5,test_size=0.33):\n",
    "        self.access_token = access_token\n",
    "        self.session = session or requests.Session()\n",
    "        self.timeout = timeout\n",
    "        self.guessed_letters = []\n",
    "        full_dictionary_location = \"words_250000_train.txt\"\n",
    "        self.full_dictionary = self.build_dictionary(full_dictionary_location)        \n",
    "        self.full_dictionary_common_letter_sorted = collections.Counter(\"\".join(self.full_dictionary)).most_common()\n",
    "        self.max_length = 0\n",
    "        self.test_size = test_size\n",
    "        self.batch_size = batch_size\n",
    "        self.epochs = epochs\n",
    "        self.train_model()  # five-layer bidirectional LSTM\n",
    "\n",
    "        \n",
    "        \n",
    "    \n",
    "            \n",
    "    def guess(self, word): # word input example: \"_ p p _ e \"\n",
    "        ###############################################\n",
    "        \n",
    "        # clean the word so that we strip away the space characters\n",
    "        clean_word = word[::2]\n",
    "        \n",
    "        # _abc -> 27 1 2 3\n",
    "        encoded_word = self.encode_word(clean_word)\n",
    "        \n",
    "        # _abc -> 27 1 2 3 0 0 0 0 ...\n",
    "        paded_word = pad_sequences([encoded_word], maxlen=self.max_length, padding='post')\n",
    "                \n",
    "        # predict and decode, get [Pa Pb Pc ...Pz]\n",
    "        pred = self.model.predict(paded_word) \n",
    "        \n",
    "        # [Pa Pb Pc ...Pz] -> argmax P index list of such as [b s a d f ....]\n",
    "        pred = self.get_order(pred[0])\n",
    "        \n",
    "        for letter in pred:\n",
    "            if letter not in self.guessed_letters:\n",
    "                guess_letter = letter\n",
    "                break         \n",
    "        return guess_letter\n",
    "    \n",
    "    def encode_word(self, word):# _abc -> 27 1 2 3\n",
    "        encoded_word = []\n",
    "        for cha in word:\n",
    "            if ord(cha) == ord(\"_\"):\n",
    "                encoded_word.append(27)\n",
    "            else:\n",
    "                encoded_word.append(ord(cha)- ord(\"a\")+1)\n",
    "        return encoded_word\n",
    "\n",
    "    def get_xy(self):\n",
    "        encoded_dictionary = []\n",
    "        for i in self.full_dictionary:\n",
    "            encoded_dictionary.append(self.encode_word(i))\n",
    "        X = []\n",
    "        y = []\n",
    "        for encoded_word in encoded_dictionary:\n",
    "            dic = {cha:[] for cha in list(set(encoded_word))}\n",
    "            for i in range(len(encoded_word)):\n",
    "                dic[encoded_word[i]].append(i)\n",
    "            cha_lis = list(dic.keys())\n",
    "            for cha,lis in dic.items():\n",
    "                masked_word = deepcopy(encoded_word)\n",
    "                for pos in lis:\n",
    "                    masked_word[pos] = 27\n",
    "#                 print(masked_word)\n",
    "                target = cha -1 \n",
    "                X.append(masked_word + [i]+[i])\n",
    "                y.append(target)\n",
    "                times = 0\n",
    "                seen = [cha]\n",
    "                new_masked_word = deepcopy(masked_word)\n",
    "                while times < len(cha_lis):\n",
    "                    j = random.randint(0,len(cha_lis)-1)   \n",
    "                    times+=1\n",
    "                    if cha_lis[j] in seen:\n",
    "                        continue\n",
    "                    seen.append(cha_lis[j])\n",
    "                    for pos in dic[cha_lis[j]]:\n",
    "                        new_masked_word[pos] = 27\n",
    "                    X.append(new_masked_word+ [i]+[j])\n",
    "#                     print(new_masked_word)\n",
    "                    y.append(target)\n",
    "                    \n",
    "        print(\"done!\")\n",
    "        \n",
    "        for i in range(len(X)):\n",
    "            X[i] = X[i][:-2]\n",
    "            self.max_length = max(self.max_length, len(X[i]))\n",
    "        print(X[:100])\n",
    "        print(y[:100])\n",
    "        # pad documents to a max length\n",
    "        X = pad_sequences(X, maxlen=self.max_length, padding='post')\n",
    "        y = to_categorical(y, num_classes=26)\n",
    "        train_x, test_x, train_y, test_y = train_test_split(X, y, test_size=self.test_size, random_state=42)\n",
    "        return (train_x, test_x, train_y, test_y)\n",
    "\n",
    "    def train_model(self): # five-layer bidirectional LSTM\n",
    "        (train_x, test_x, train_y, test_y) = self.get_xy()\n",
    "\n",
    "        # define the model\n",
    "        self.model = Sequential()\n",
    "        self.model.add(Embedding(28, 128, input_length=self.max_length))\n",
    "        self.model.add(Bidirectional(LSTM(64, return_sequences=True)))\n",
    "        self.model.add(Bidirectional(LSTM(64, return_sequences=True)))\n",
    "        self.model.add(Bidirectional(LSTM(64, return_sequences=True)))\n",
    "        self.model.add(Bidirectional(LSTM(64, return_sequences=True)))\n",
    "        self.model.add(Bidirectional(LSTM(64)))\n",
    "        self.model.add(Dropout(0.5))\n",
    "        self.model.add(Dense(26, activation='softmax'))\n",
    "\n",
    "        # compile the model\n",
    "        self.model.compile(optimizer=\"adam\",loss = \"categorical_crossentropy\", metrics=['accuracy', 'top_k_categorical_accuracy'])\n",
    "\n",
    "        # summarize the model\n",
    "        print(self.model.summary())\n",
    "\n",
    "        # fit and evaluate the model\n",
    "        self.model.fit(train_x, train_y,\n",
    "                batch_size=self.batch_size,\n",
    "                epochs=self.epochs,\n",
    "                validation_data=[test_x, test_y])\n",
    "        \n",
    "        return\n",
    "    \n",
    "    def get_order(self, prediction): # [Pa Pb Pc ...Pz] -> argmax P index list of such as [b s a d f ....]\n",
    "        dic = {i:prediction[i] for i in range(len(prediction))}\n",
    "        sorted_cha_list = [chr(index + ord(\"a\")) for index, value in sorted(dic.items(), key=lambda x:x[1],reverse = True)]\n",
    "        return sorted_cha_list\n",
    "    \n",
    "    \n",
    "    def build_dictionary(self, dictionary_file_location):\n",
    "        text_file = open(dictionary_file_location,\"r\")\n",
    "        full_dictionary = text_file.read().splitlines()\n",
    "        text_file.close()\n",
    "        return full_dictionary\n",
    "                \n",
    "    def start_game(self, practice=True, verbose=True):\n",
    "        # reset guessed letters to empty set and current plausible dictionary to the full dictionary\n",
    "        self.guessed_letters = []\n",
    "        self.current_dictionary = self.full_dictionary\n",
    "                         \n",
    "        response = self.request(\"/new_game\", {\"practice\":practice})\n",
    "        if response.get('status')==\"approved\":\n",
    "            game_id = response.get('game_id')\n",
    "            word = response.get('word')\n",
    "            tries_remains = response.get('tries_remains')\n",
    "            if verbose:\n",
    "                print(\"Successfully start a new game! Game ID: {0}. # of tries remaining: {1}. Word: {2}.\".format(game_id, tries_remains, word))\n",
    "            while tries_remains>0:\n",
    "                # get guessed letter from user code\n",
    "                guess_letter = self.guess(word)\n",
    "                    \n",
    "                # append guessed letter to guessed letters field in hangman object\n",
    "                self.guessed_letters.append(guess_letter)\n",
    "                if verbose:\n",
    "                    print(\"Guessing letter: {0}\".format(guess_letter))\n",
    "                    \n",
    "                try:    \n",
    "                    res = self.request(\"/guess_letter\", {\"request\":\"guess_letter\", \"game_id\":game_id, \"letter\":guess_letter})\n",
    "                except HangmanAPIError:\n",
    "                    print('HangmanAPIError exception caught on request.')\n",
    "                    continue\n",
    "                except Exception as e:\n",
    "                    print('Other exception caught on request.')\n",
    "                    raise e\n",
    "               \n",
    "                if verbose:\n",
    "                    print(\"Sever response: {0}\".format(res))\n",
    "                status = res.get('status')\n",
    "                tries_remains = res.get('tries_remains')\n",
    "                if status==\"success\":\n",
    "                    if verbose:\n",
    "                        print(\"Successfully finished game: {0}\".format(game_id))\n",
    "                    return True\n",
    "                elif status==\"failed\":\n",
    "                    reason = res.get('reason', '# of tries exceeded!')\n",
    "                    if verbose:\n",
    "                        print(\"Failed game: {0}. Because of: {1}\".format(game_id, reason))\n",
    "                    return False\n",
    "                elif status==\"ongoing\":\n",
    "                    word = res.get('word')\n",
    "        else:\n",
    "            if verbose:\n",
    "                print(\"Failed to start a new game\")\n",
    "        return status==\"success\"\n",
    "        \n",
    "    def my_status(self):\n",
    "        return self.request(\"/my_status\", {})\n",
    "    \n",
    "    def request(\n",
    "            self, path, args=None, post_args=None, method=None):\n",
    "        if args is None:\n",
    "            args = dict()\n",
    "        if post_args is not None:\n",
    "            method = \"POST\"\n",
    "\n",
    "        # Add `access_token` to post_args or args if it has not already been\n",
    "        # included.\n",
    "        if self.access_token:\n",
    "            # If post_args exists, we assume that args either does not exists\n",
    "            # or it does not need `access_token`.\n",
    "            if post_args and \"access_token\" not in post_args:\n",
    "                post_args[\"access_token\"] = self.access_token\n",
    "            elif \"access_token\" not in args:\n",
    "                args[\"access_token\"] = self.access_token\n",
    "\n",
    "        try:\n",
    "            # response = self.session.request(\n",
    "            response = requests.request(\n",
    "                method or \"GET\",\n",
    "                HANGMAN_URL + path,\n",
    "                timeout=self.timeout,\n",
    "                params=args,\n",
    "                data=post_args)\n",
    "        except requests.HTTPError as e:\n",
    "            response = json.loads(e.read())\n",
    "            raise HangmanAPIError(response)\n",
    "\n",
    "        headers = response.headers\n",
    "        if 'json' in headers['content-type']:\n",
    "            result = response.json()\n",
    "        elif \"access_token\" in parse_qs(response.text):\n",
    "            query_str = parse_qs(response.text)\n",
    "            if \"access_token\" in query_str:\n",
    "                result = {\"access_token\": query_str[\"access_token\"][0]}\n",
    "                if \"expires\" in query_str:\n",
    "                    result[\"expires\"] = query_str[\"expires\"][0]\n",
    "            else:\n",
    "                raise HangmanAPIError(response.json())\n",
    "        else:\n",
    "            raise HangmanAPIError('Maintype was not text, or querystring')\n",
    "\n",
    "        if result and isinstance(result, dict) and result.get(\"error\"):\n",
    "            raise HangmanAPIError(result)\n",
    "        return result\n",
    "    \n",
    "class HangmanAPIError(Exception):\n",
    "    def __init__(self, result):\n",
    "        self.result = result\n",
    "        self.code = None\n",
    "        try:\n",
    "            self.type = result[\"error_code\"]\n",
    "        except (KeyError, TypeError):\n",
    "            self.type = \"\"\n",
    "\n",
    "        try:\n",
    "            self.message = result[\"error_description\"]\n",
    "        except (KeyError, TypeError):\n",
    "            try:\n",
    "                self.message = result[\"error\"][\"message\"]\n",
    "                self.code = result[\"error\"].get(\"code\")\n",
    "                if not self.type:\n",
    "                    self.type = result[\"error\"].get(\"type\", \"\")\n",
    "            except (KeyError, TypeError):\n",
    "                try:\n",
    "                    self.message = result[\"error_msg\"]\n",
    "                except (KeyError, TypeError):\n",
    "                    self.message = result\n",
    "\n",
    "        Exception.__init__(self, self.message)"
   ]
  },
  {
   "cell_type": "markdown",
   "metadata": {
    "colab_type": "text",
    "id": "iY3jFZ2mTjaF"
   },
   "source": [
    "# API Usage Examples"
   ]
  },
  {
   "cell_type": "markdown",
   "metadata": {
    "colab_type": "text",
    "id": "LrvI936lTjaH"
   },
   "source": [
    "## To start a new game:\n",
    "1. Make sure you have implemented your own \"guess\" method.\n",
    "2. Use the access_token that we sent you to create your HangmanAPI object. \n",
    "3. Start a game by calling \"start_game\" method.\n",
    "4. If you wish to test your function without being recorded, set \"practice\" parameter to 1.\n",
    "5. Note: You have a rate limit of 20 new games per minute. DO NOT start more than 20 new games within one minute."
   ]
  },
  {
   "cell_type": "code",
   "execution_count": 8,
   "metadata": {
    "colab": {
     "base_uri": "https://localhost:8080/",
     "height": 473
    },
    "colab_type": "code",
    "id": "qpxcNE2uTjaI",
    "outputId": "8c05aea9-e71c-4ab2-b8ba-d583d53ea421"
   },
   "outputs": [
    {
     "name": "stdout",
     "output_type": "stream",
     "text": [
      "done!\n",
      "[[27, 27, 27], [27, 27, 27, 27, 27, 27], [27, 27, 27, 19], [1, 1, 1, 27], [27, 27, 3, 8, 5, 14], [27, 27, 3, 8, 5, 27], [27, 27, 3, 8, 27, 27], [27, 27, 27, 8, 27, 27], [1, 1, 27, 8, 5, 14], [1, 1, 27, 8, 5, 27], [27, 27, 27, 8, 5, 27], [27, 27, 27, 8, 27, 27], [1, 1, 3, 8, 27, 14], [1, 1, 27, 8, 27, 14], [27, 27, 27, 8, 27, 14], [27, 27, 27, 27, 27, 14], [27, 27, 27, 27, 27, 27], [1, 1, 3, 27, 5, 14], [1, 1, 3, 27, 5, 27], [27, 27, 3, 27, 5, 27], [27, 27, 27, 27, 5, 27], [1, 1, 3, 8, 5, 27], [1, 1, 3, 27, 5, 27], [27, 27, 5, 5], [27, 27, 27, 27], [1, 1, 27, 27], [27, 27, 27, 27], [27, 27, 7], [27, 27, 27], [1, 1, 27], [27, 27, 27], [1, 1, 27, 5, 4], [1, 1, 27, 27, 4], [27, 27, 8, 5, 4], [27, 27, 27, 5, 4], [27, 27, 27, 5, 27], [27, 27, 27, 27, 27], [1, 1, 8, 5, 27], [27, 27, 8, 5, 27], [1, 1, 8, 27, 4], [27, 27, 8, 27, 4], [27, 27, 27, 27, 4], [1, 1, 27, 19], [1, 1, 27, 27], [27, 27, 8, 19], [27, 27, 27, 19], [1, 1, 8, 27], [1, 1, 27, 27], [27, 27, 12], [27, 27, 27], [1, 1, 27], [27, 27, 27], [27, 27, 12, 5, 19, 21, 14, 4], [27, 27, 27, 5, 19, 21, 14, 4], [27, 27, 27, 5, 19, 21, 14, 27], [27, 27, 27, 27, 19, 21, 14, 27], [27, 27, 27, 27, 27, 21, 14, 27], [1, 1, 12, 5, 19, 21, 14, 27], [27, 27, 12, 5, 19, 21, 14, 27], [27, 27, 12, 5, 27, 21, 14, 27], [27, 27, 12, 5, 27, 21, 27, 27], [27, 27, 12, 5, 27, 27, 27, 27], [27, 27, 27, 5, 27, 27, 27, 27], [1, 1, 12, 27, 19, 21, 14, 4], [1, 1, 12, 27, 19, 21, 27, 4], [1, 1, 12, 27, 19, 27, 27, 4], [1, 1, 27, 27, 19, 27, 27, 4], [27, 27, 27, 27, 19, 27, 27, 4], [1, 1, 27, 5, 19, 21, 14, 4], [1, 1, 27, 5, 19, 21, 14, 27], [1, 1, 27, 27, 19, 21, 14, 27], [1, 1, 27, 27, 27, 21, 14, 27], [27, 27, 27, 27, 27, 21, 14, 27], [27, 27, 27, 27, 27, 27, 14, 27], [1, 1, 12, 5, 19, 21, 27, 4], [1, 1, 27, 5, 19, 21, 27, 4], [1, 1, 27, 27, 19, 21, 27, 4], [1, 1, 27, 27, 19, 27, 27, 4], [1, 1, 27, 27, 19, 27, 27, 27], [1, 1, 12, 5, 27, 21, 14, 4], [1, 1, 27, 5, 27, 21, 14, 4], [27, 27, 27, 5, 27, 21, 14, 4], [27, 27, 27, 5, 27, 21, 14, 27], [27, 27, 27, 27, 27, 21, 14, 27], [1, 1, 12, 5, 19, 27, 14, 4], [1, 1, 12, 5, 19, 27, 27, 4], [1, 1, 12, 5, 19, 27, 27, 27], [1, 1, 27, 5, 19, 27, 27, 27], [27, 27, 12, 9, 9, 19], [27, 27, 12, 9, 9, 27], [27, 27, 12, 27, 27, 27], [27, 27, 27, 27, 27, 27], [1, 1, 12, 9, 9, 27], [27, 27, 12, 9, 9, 27], [27, 27, 27, 9, 9, 27], [27, 27, 27, 27, 27, 27], [1, 1, 27, 9, 9, 19], [27, 27, 27, 9, 9, 19], [27, 27, 27, 9, 9, 27], [27, 27, 27, 27, 27, 27]]\n",
      "[0, 0, 0, 18, 0, 0, 0, 0, 2, 2, 2, 2, 4, 4, 4, 4, 4, 7, 7, 7, 7, 13, 13, 0, 0, 4, 4, 0, 0, 6, 6, 7, 7, 0, 0, 0, 0, 3, 3, 4, 4, 4, 7, 7, 0, 0, 18, 18, 0, 0, 11, 11, 0, 0, 0, 0, 0, 3, 3, 3, 3, 3, 3, 4, 4, 4, 4, 4, 11, 11, 11, 11, 11, 11, 13, 13, 13, 13, 13, 18, 18, 18, 18, 18, 20, 20, 20, 20, 0, 0, 0, 0, 18, 18, 18, 18, 11, 11, 11, 11]\n",
      "Model: \"sequential_3\"\n",
      "_________________________________________________________________\n",
      "Layer (type)                 Output Shape              Param #   \n",
      "=================================================================\n",
      "embedding_3 (Embedding)      (None, 29, 128)           3584      \n",
      "_________________________________________________________________\n",
      "bidirectional_11 (Bidirectio (None, 29, 128)           98816     \n",
      "_________________________________________________________________\n",
      "bidirectional_12 (Bidirectio (None, 29, 128)           98816     \n",
      "_________________________________________________________________\n",
      "bidirectional_13 (Bidirectio (None, 29, 128)           98816     \n",
      "_________________________________________________________________\n",
      "bidirectional_14 (Bidirectio (None, 29, 128)           98816     \n",
      "_________________________________________________________________\n",
      "bidirectional_15 (Bidirectio (None, 128)               98816     \n",
      "_________________________________________________________________\n",
      "dropout_3 (Dropout)          (None, 128)               0         \n",
      "_________________________________________________________________\n",
      "dense_3 (Dense)              (None, 26)                3354      \n",
      "=================================================================\n",
      "Total params: 501,018\n",
      "Trainable params: 501,018\n",
      "Non-trainable params: 0\n",
      "_________________________________________________________________\n",
      "None\n"
     ]
    },
    {
     "name": "stderr",
     "output_type": "stream",
     "text": [
      "/opt/conda/lib/python3.7/site-packages/tensorflow_core/python/framework/indexed_slices.py:433: UserWarning: Converting sparse IndexedSlices to a dense Tensor of unknown shape. This may consume a large amount of memory.\n",
      "  \"Converting sparse IndexedSlices to a dense Tensor of unknown shape. \"\n"
     ]
    },
    {
     "name": "stdout",
     "output_type": "stream",
     "text": [
      "Train on 8396978 samples, validate on 932998 samples\n",
      "Epoch 1/10\n",
      "8396978/8396978 [==============================] - 944s 112us/step - loss: 2.5298 - accuracy: 0.2122 - top_k_categorical_accuracy: 0.6143 - val_loss: 2.3374 - val_accuracy: 0.2557 - val_top_k_categorical_accuracy: 0.6687\n",
      "Epoch 2/10\n",
      "8396978/8396978 [==============================] - 941s 112us/step - loss: 2.3222 - accuracy: 0.2593 - top_k_categorical_accuracy: 0.6724 - val_loss: 2.2346 - val_accuracy: 0.2760 - val_top_k_categorical_accuracy: 0.6935\n",
      "Epoch 3/10\n",
      "8396978/8396978 [==============================] - 941s 112us/step - loss: 2.2486 - accuracy: 0.2750 - top_k_categorical_accuracy: 0.6898 - val_loss: 2.1820 - val_accuracy: 0.2868 - val_top_k_categorical_accuracy: 0.7057\n",
      "Epoch 4/10\n",
      "8396978/8396978 [==============================] - 961s 114us/step - loss: 2.2053 - accuracy: 0.2839 - top_k_categorical_accuracy: 0.7004 - val_loss: 2.1497 - val_accuracy: 0.2933 - val_top_k_categorical_accuracy: 0.7133\n",
      "Epoch 5/10\n",
      "8396978/8396978 [==============================] - 931s 111us/step - loss: 2.1746 - accuracy: 0.2904 - top_k_categorical_accuracy: 0.7080 - val_loss: 2.1256 - val_accuracy: 0.2978 - val_top_k_categorical_accuracy: 0.7191\n",
      "Epoch 6/10\n",
      "8396978/8396978 [==============================] - 931s 111us/step - loss: 2.1508 - accuracy: 0.2956 - top_k_categorical_accuracy: 0.7134 - val_loss: 2.1052 - val_accuracy: 0.3027 - val_top_k_categorical_accuracy: 0.7238\n",
      "Epoch 7/10\n",
      "8396978/8396978 [==============================] - 930s 111us/step - loss: 2.1319 - accuracy: 0.2993 - top_k_categorical_accuracy: 0.7180 - val_loss: 2.0902 - val_accuracy: 0.3050 - val_top_k_categorical_accuracy: 0.7273\n",
      "Epoch 8/10\n",
      "8396978/8396978 [==============================] - 929s 111us/step - loss: 2.1159 - accuracy: 0.3027 - top_k_categorical_accuracy: 0.7217 - val_loss: 2.0768 - val_accuracy: 0.3078 - val_top_k_categorical_accuracy: 0.7306\n",
      "Epoch 9/10\n",
      "8396978/8396978 [==============================] - 932s 111us/step - loss: 2.1029 - accuracy: 0.3050 - top_k_categorical_accuracy: 0.7246 - val_loss: 2.0685 - val_accuracy: 0.3094 - val_top_k_categorical_accuracy: 0.7330\n",
      "Epoch 10/10\n",
      "8396978/8396978 [==============================] - 933s 111us/step - loss: 2.0914 - accuracy: 0.3074 - top_k_categorical_accuracy: 0.7275 - val_loss: 2.0578 - val_accuracy: 0.3118 - val_top_k_categorical_accuracy: 0.7348\n"
     ]
    }
   ],
   "source": [
    "api = HangmanAPI(access_token=\"\", timeout=2000, batch_size=3000,epochs=10,test_size=0.1)"
   ]
  },
  {
   "cell_type": "markdown",
   "metadata": {
    "colab_type": "text",
    "id": "RpTO-3yQTjaQ"
   },
   "source": [
    "## Playing practice games:\n",
    "You can use the command below to play up to 100,000 practice games."
   ]
  },
  {
   "cell_type": "code",
   "execution_count": null,
   "metadata": {
    "colab": {},
    "colab_type": "code",
    "id": "hwSHVUvHTjaR",
    "scrolled": true
   },
   "outputs": [],
   "source": [
    "# print(\"result\", api.start_game(practice=1,verbose=True))\n",
    "# [total_practice_runs,total_recorded_runs,total_recorded_successes] = api.my_status() # Get my game stats: (# of tries, # of wins)\n",
    "# print('run %d practice games out of an allotted 100,000' %total_practice_runs)\n"
   ]
  },
  {
   "cell_type": "markdown",
   "metadata": {
    "colab_type": "text",
    "id": "Tm27-Nb9Tjad"
   },
   "source": [
    "## Playing recorded games:\n",
    "Please finalize your code prior to running the cell below. Once this code executes once successfully your submission will be finalized. Our system will not allow you to rerun any additional games.\n",
    "\n",
    "Please note that it is expected that after you successfully run this block of code that subsequent runs will result in the error message \"Your account has been deactivated\".\n",
    "\n",
    "Once you've run this section of the code your submission is complete. Please send us your source code via email."
   ]
  },
  {
   "cell_type": "code",
   "execution_count": null,
   "metadata": {
    "colab": {},
    "colab_type": "code",
    "id": "B_pmUV7ZTjaf",
    "scrolled": true
   },
   "outputs": [],
   "source": [
    "for i in range(1000):\n",
    "    print('Playing ', i, ' th game')\n",
    "    # Uncomment the following line to execute your final runs. Do not do this until you are satisfied with your submission\n",
    "    api.start_game(practice=0,verbose=True)\n",
    "    \n",
    "    # DO NOT REMOVE as otherwise the server may lock you out for too high frequency of requests\n",
    "    time.sleep(0.5)"
   ]
  },
  {
   "cell_type": "code",
   "execution_count": null,
   "metadata": {
    "colab": {},
    "colab_type": "code",
    "id": "hge6f53sTjam",
    "scrolled": true
   },
   "outputs": [],
   "source": [
    "# win_number = 0\n",
    "# run_number = 100\n",
    "# for i in range(run_number):\n",
    "#     print('Playing ', i, ' th game')\n",
    "#     # Uncomment the following line to execute your final runs. Do not do this until you are satisfied with your submission\n",
    "#     stat = api.start_game(practice=1,verbose=True)\n",
    "#     if stat:\n",
    "#         win_number +=1\n",
    "#     print(\"#####################################\")\n",
    "#     print('overall success rate = %.3f' % (win_number/(i+1)))\n",
    "#     # DO NOT REMOVE as otherwise the server may lock you out for too high frequency of requests\n",
    "#     time.sleep(0.5)"
   ]
  },
  {
   "cell_type": "markdown",
   "metadata": {
    "colab_type": "text",
    "id": "JJAB2z_PTjaq"
   },
   "source": [
    "## To check your game statistics\n",
    "1. Simply use \"my_status\" method.\n",
    "2. Returns your total number of games, and number of wins."
   ]
  },
  {
   "cell_type": "code",
   "execution_count": 8,
   "metadata": {},
   "outputs": [
    {
     "name": "stdout",
     "output_type": "stream",
     "text": [
      "overall success rate = 0.861\n"
     ]
    }
   ],
   "source": [
    "[total_practice_runs,total_recorded_runs,total_recorded_successes] = api.my_status() # Get my game stats: (# of tries, # of wins)\n",
    "success_rate = total_recorded_successes/total_recorded_runs\n",
    "print('overall success rate = %.3f' % success_rate)"
   ]
  }
 ],
 "metadata": {
  "accelerator": "GPU",
  "colab": {
   "name": "cat.ipynb",
   "provenance": []
  },
  "kernelspec": {
   "display_name": "Python 3",
   "language": "python",
   "name": "python3"
  },
  "language_info": {
   "codemirror_mode": {
    "name": "ipython",
    "version": 3
   },
   "file_extension": ".py",
   "mimetype": "text/x-python",
   "name": "python",
   "nbconvert_exporter": "python",
   "pygments_lexer": "ipython3",
   "version": "3.7.0"
  },
  "toc": {
   "base_numbering": 1,
   "nav_menu": {},
   "number_sections": true,
   "sideBar": true,
   "skip_h1_title": false,
   "title_cell": "Table of Contents",
   "title_sidebar": "Contents",
   "toc_cell": false,
   "toc_position": {},
   "toc_section_display": true,
   "toc_window_display": false
  }
 },
 "nbformat": 4,
 "nbformat_minor": 4
}
